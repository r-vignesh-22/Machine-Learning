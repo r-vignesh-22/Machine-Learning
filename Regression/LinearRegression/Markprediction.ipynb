{
 "cells": [
  {
   "cell_type": "code",
   "execution_count": null,
   "id": "908778a1",
   "metadata": {
    "notebookRunGroups": {
     "groupValue": "1"
    }
   },
   "outputs": [],
   "source": [
    "import pandas as pd \n",
    "import numpy as np\n",
    "import matplotlib.pyplot as plt"
   ]
  },
  {
   "cell_type": "code",
   "execution_count": null,
   "id": "c605c2cc",
   "metadata": {},
   "outputs": [],
   "source": [
    "df = pd.read_csv(\"LinearRegression/student_dataset_capped.csv\")\n",
    "df.head()"
   ]
  },
  {
   "cell_type": "code",
   "execution_count": null,
   "id": "939e4f39",
   "metadata": {},
   "outputs": [],
   "source": [
    "x = df[['Study_Hours']].values\n",
    "y = df[['Marks']].values\n",
    "plt.scatter(x, y)\n",
    "plt.xlabel(\"Study Hours\")\n",
    "plt.ylabel(\"Marks\")\n",
    "plt.show()"
   ]
  },
  {
   "cell_type": "code",
   "execution_count": null,
   "id": "f3003286",
   "metadata": {},
   "outputs": [],
   "source": [
    "#find slope(m)\n",
    "x_mean = np.mean(x)\n",
    "y_mean = np.mean(y)\n",
    "\n",
    "numerator = np.sum((x-x_mean)*(y-y_mean))\n",
    "denominator = np.sum((x-x_mean)**2)\n",
    "\n",
    "slope_m = numerator/denominator\n",
    "print(slope_m)\n"
   ]
  },
  {
   "cell_type": "code",
   "execution_count": null,
   "id": "1154a171",
   "metadata": {},
   "outputs": [],
   "source": [
    "# find b from y = mx+b\n",
    "b = y_mean - slope_m*x_mean\n",
    "print(b)"
   ]
  },
  {
   "cell_type": "code",
   "execution_count": null,
   "id": "207cb89b",
   "metadata": {},
   "outputs": [],
   "source": [
    "#function for predicting new input x hrs\n",
    "def predict(x):\n",
    "  return slope_m*x + b\n",
    "print(f\"Final regression equation y = {slope_m}*x + {b}\")"
   ]
  },
  {
   "cell_type": "code",
   "execution_count": null,
   "id": "5c7bc8a6",
   "metadata": {},
   "outputs": [],
   "source": [
    "#sample data\n",
    "x_new  = np.array([2.5, 5.5, 7.5])\n",
    "y_pred = predict(x_new)\n",
    "print(f\"Predicted score for {x_new} hrs is {y_pred}\")\n"
   ]
  },
  {
   "cell_type": "code",
   "execution_count": null,
   "id": "aa09702d",
   "metadata": {},
   "outputs": [],
   "source": [
    "plt.scatter(x, y, color='blue', label='Data')                 # Data points\n",
    "plt.plot(x, predict(x), color='red', label='Regression Line') # Best fit line\n",
    "plt.xlabel(\"Study Hours\")\n",
    "plt.ylabel(\"Marks\")\n",
    "plt.legend()\n",
    "plt.show()"
   ]
  }
 ],
 "metadata": {
  "language_info": {
   "name": "python"
  }
 },
 "nbformat": 4,
 "nbformat_minor": 5
}
