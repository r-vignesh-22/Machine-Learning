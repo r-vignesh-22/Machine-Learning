{
 "cells": [
  {
   "cell_type": "code",
   "execution_count": null,
   "id": "98ff0744",
   "metadata": {},
   "outputs": [],
   "source": [
    "import pandas as pd\n",
    "import numpy as np\n",
    "from sklearn.linear_model import LinearRegression\n",
    "import matplotlib.pyplot as plt"
   ]
  },
  {
   "cell_type": "code",
   "execution_count": null,
   "id": "1dfe9e01",
   "metadata": {},
   "outputs": [],
   "source": [
    "\n",
    "# 1. Create a small dataset (fake but logical)\n",
    "# Features: Sugar (spoons), Milk (ml), TeaLeaves (grams), Water (ml)\n",
    "data = {\n",
    "    \"Sugar\":     [1, 2, 3, 4, 5, 2, 3, 4],\n",
    "    \"Milk\":      [100, 150, 200, 250, 300, 180, 220, 260],\n",
    "    \"TeaLeaves\": [1, 2, 2, 3, 3, 2, 3, 4],\n",
    "    \"Water\":     [200, 220, 250, 300, 350, 230, 260, 320],\n",
    "}\n",
    "# Target: Taste score (how good the tea tastes, 1–100 scale)\n",
    "# We \"pretend\" these are from human taste testers\n",
    "taste = [40, 55, 65, 75, 85, 60, 70, 80]\n",
    "df = pd.DataFrame(data)\n",
    "df.head()"
   ]
  },
  {
   "cell_type": "code",
   "execution_count": null,
   "id": "703fb136",
   "metadata": {},
   "outputs": [],
   "source": [
    "df['Taste'] = taste\n",
    "df.head()"
   ]
  },
  {
   "cell_type": "code",
   "execution_count": null,
   "id": "95ef4087",
   "metadata": {},
   "outputs": [],
   "source": [
    "X = df[['Sugar','Milk','TeaLeaves','Water']]\n",
    "Y = df['Taste']\n",
    "model = LinearRegression()\n",
    "model.fit(X,Y)"
   ]
  },
  {
   "cell_type": "code",
   "execution_count": null,
   "id": "1d0ea3dd",
   "metadata": {},
   "outputs": [],
   "source": [
    "print(\"Slope(m1,m2,m3,m4)\",model.coef_)\n",
    "print(\"Intercept(c)\",model.intercept_)"
   ]
  },
  {
   "cell_type": "code",
   "execution_count": null,
   "id": "7f24dfd2",
   "metadata": {},
   "outputs": [],
   "source": [
    "new_tea = np.array([[1,180,3,150]])\n",
    "predicted_taste = model.predict(new_tea)\n",
    "predicted_taste"
   ]
  },
  {
   "cell_type": "code",
   "execution_count": null,
   "id": "4fa9ec23",
   "metadata": {},
   "outputs": [],
   "source": [
    "plt.scatter(df[\"Sugar\"], y, color=\"red\", label=\"Actual taste\")\n",
    "plt.plot(df[\"Sugar\"], model.predict(X), color=\"blue\", label=\"Model predictions\")\n",
    "plt.xlabel(\"Sugar (spoons)\")\n",
    "plt.ylabel(\"Taste Score\")\n",
    "plt.title(\"Effect of Sugar on Tea Taste (with other factors)\")\n",
    "plt.legend()\n",
    "plt.show()"
   ]
  }
 ],
 "metadata": {
  "language_info": {
   "name": "python"
  }
 },
 "nbformat": 4,
 "nbformat_minor": 5
}
